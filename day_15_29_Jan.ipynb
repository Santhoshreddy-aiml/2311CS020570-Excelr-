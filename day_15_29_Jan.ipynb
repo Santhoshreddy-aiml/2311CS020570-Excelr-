{
  "nbformat": 4,
  "nbformat_minor": 0,
  "metadata": {
    "colab": {
      "provenance": [],
      "authorship_tag": "ABX9TyPBCQX3rE2vqMKcPXf8fLqU",
      "include_colab_link": true
    },
    "kernelspec": {
      "name": "python3",
      "display_name": "Python 3"
    },
    "language_info": {
      "name": "python"
    }
  },
  "cells": [
    {
      "cell_type": "markdown",
      "metadata": {
        "id": "view-in-github",
        "colab_type": "text"
      },
      "source": [
        "<a href=\"https://colab.research.google.com/github/Santhoshreddy-aiml/2311CS020570-Excelr-/blob/main/day_15_29_Jan.ipynb\" target=\"_parent\"><img src=\"https://colab.research.google.com/assets/colab-badge.svg\" alt=\"Open In Colab\"/></a>"
      ]
    },
    {
      "cell_type": "code",
      "execution_count": null,
      "metadata": {
        "id": "Yo_7qCfSMsA5"
      },
      "outputs": [],
      "source": [
        "import scipy.stats as stats\n",
        "\n",
        "sample1 = [300,315,320,311,314,309,300,308,305,303,305,301,303]\n",
        "sample2 = [335,329,322,321,324,319,304,308,]"
      ]
    },
    {
      "cell_type": "code",
      "source": [],
      "metadata": {
        "id": "f43B_0KHX6Je"
      },
      "execution_count": null,
      "outputs": []
    }
  ]
}