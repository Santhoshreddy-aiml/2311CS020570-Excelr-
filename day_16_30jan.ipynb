{
  "nbformat": 4,
  "nbformat_minor": 0,
  "metadata": {
    "colab": {
      "provenance": [],
      "authorship_tag": "ABX9TyPIER1hw0E18EmlMw4H7HG/",
      "include_colab_link": true
    },
    "kernelspec": {
      "name": "python3",
      "display_name": "Python 3"
    },
    "language_info": {
      "name": "python"
    }
  },
  "cells": [
    {
      "cell_type": "markdown",
      "metadata": {
        "id": "view-in-github",
        "colab_type": "text"
      },
      "source": [
        "<a href=\"https://colab.research.google.com/github/Santhoshreddy-aiml/2311CS020570-Excelr-/blob/main/day_16_30jan.ipynb\" target=\"_parent\"><img src=\"https://colab.research.google.com/assets/colab-badge.svg\" alt=\"Open In Colab\"/></a>"
      ]
    },
    {
      "cell_type": "code",
      "execution_count": 1,
      "metadata": {
        "colab": {
          "base_uri": "https://localhost:8080/"
        },
        "id": "yiyNIEVCW_L8",
        "outputId": "8c0586f6-c604-46cc-d5ce-ff6c30736bb2"
      },
      "outputs": [
        {
          "output_type": "stream",
          "name": "stdout",
          "text": [
            "The total taxi fare for 10 km is: 25\n"
          ]
        }
      ],
      "source": [
        "#Find the cab prediction price(y) by considering x value (no.of Km Traveled) andrate per Km is fixed one(m) as 2 and fixed price as that is fare is c value is 5.\n",
        "def calculate_taxi_fare(x):\n",
        "  \"\"\"\n",
        "  Calculates the taxi fare based on distance traveled.\n",
        "\n",
        "  Args:\n",
        "    x: The number of kilometers traveled.\n",
        "\n",
        "  Returns:\n",
        "    The total taxi fare.\n",
        "  \"\"\"\n",
        "  m = 2  # Rate per kilometer\n",
        "  c = 5  # Fixed price\n",
        "  y = m * x + c  # Calculate total fare\n",
        "  return y\n",
        "\n",
        "# Example usage\n",
        "distance_traveled = 10  # Example distance in kilometers\n",
        "fare = calculate_taxi_fare(distance_traveled)\n",
        "\n",
        "print(f\"The total taxi fare for {distance_traveled} km is: {fare}\")"
      ]
    },
    {
      "cell_type": "code",
      "source": [],
      "metadata": {
        "id": "VS5gHcAGjagh"
      },
      "execution_count": null,
      "outputs": []
    }
  ]
}